{
 "cells": [
  {
   "cell_type": "markdown",
   "metadata": {},
   "source": [
    "Антон Смовженко"
   ]
  },
  {
   "cell_type": "markdown",
   "metadata": {
    "id": "5qV_sehzFCTp"
   },
   "source": [
    "# I. OOP"
   ]
  },
  {
   "cell_type": "markdown",
   "metadata": {
    "id": "tx_U_hOALyfg"
   },
   "source": [
    "1. (6б). Створіть клас Animal, додайте три атрибути, один з яких має значення за замовчуванням та два методи на свій розсуд."
   ]
  },
  {
   "cell_type": "code",
   "execution_count": 1,
   "metadata": {
    "id": "-Vf895KaL88N"
   },
   "outputs": [],
   "source": [
    "class Animal:\n",
    "    def __init__(self, species, habitat, diet=\"herbivore\"):\n",
    "        self.species = species\n",
    "        self.habitat = habitat\n",
    "        self.diet = diet\n",
    "\n",
    "    def make_sound(self):\n",
    "        print(\"Some generic animal sound\")\n",
    "\n",
    "    def describe(self):\n",
    "        print(f\"Species: {self.species}, Habitat: {self.habitat}, Diet: {self.diet}\")\n"
   ]
  },
  {
   "cell_type": "markdown",
   "metadata": {
    "id": "X_UlOMB0L93w"
   },
   "source": [
    "2. (2б). Створіть два обʼєкти цього класу, де один з обʼєктів створюється із дефолтним значенням атрибуту. На одному обʼєкті отримайте значення його атрибуту, а на іншому викличте один з його методів."
   ]
  },
  {
   "cell_type": "code",
   "execution_count": 2,
   "metadata": {
    "id": "7gBu0ESOMCpG"
   },
   "outputs": [
    {
     "name": "stdout",
     "output_type": "stream",
     "text": [
      "herbivore\n",
      "Species: Fish, Habitat: Ocean, Diet: carnivore\n"
     ]
    }
   ],
   "source": [
    "animal1 = Animal(\"Lion\", \"Savannah\")\n",
    "animal2 = Animal(\"Fish\", \"Ocean\", \"carnivore\")\n",
    "\n",
    "print(animal1.diet)\n",
    "\n",
    "animal2.describe()\n"
   ]
  },
  {
   "cell_type": "markdown",
   "metadata": {
    "id": "HoqSCZt1MHn5"
   },
   "source": [
    "3. (5б). Створіть клас, де атрибути мають різні рівні доступу. Спробуйте отримати їхні значення та опишіть результати."
   ]
  },
  {
   "cell_type": "code",
   "execution_count": 3,
   "metadata": {
    "id": "r9b3vJxBMSPV"
   },
   "outputs": [
    {
     "name": "stdout",
     "output_type": "stream",
     "text": [
      "Public\n",
      "Protected\n"
     ]
    },
    {
     "ename": "AttributeError",
     "evalue": "'MyClass' object has no attribute '__private'",
     "output_type": "error",
     "traceback": [
      "\u001b[1;31m---------------------------------------------------------------------------\u001b[0m",
      "\u001b[1;31mAttributeError\u001b[0m                            Traceback (most recent call last)",
      "Cell \u001b[1;32mIn[3], line 10\u001b[0m\n\u001b[0;32m      8\u001b[0m \u001b[38;5;28mprint\u001b[39m(obj\u001b[38;5;241m.\u001b[39mpublic)       \u001b[38;5;66;03m# Доступно\u001b[39;00m\n\u001b[0;32m      9\u001b[0m \u001b[38;5;28mprint\u001b[39m(obj\u001b[38;5;241m.\u001b[39m_protected)   \u001b[38;5;66;03m# Доступно, але не рекомендується\u001b[39;00m\n\u001b[1;32m---> 10\u001b[0m \u001b[38;5;28mprint\u001b[39m(obj\u001b[38;5;241m.\u001b[39m__private)\n",
      "\u001b[1;31mAttributeError\u001b[0m: 'MyClass' object has no attribute '__private'"
     ]
    }
   ],
   "source": [
    "class MyClass:\n",
    "    def __init__(self):\n",
    "        self.public = \"Public\"\n",
    "        self._protected = \"Protected\"\n",
    "        self.__private = \"Private\"\n",
    "\n",
    "obj = MyClass()\n",
    "print(obj.public)       # Доступно\n",
    "print(obj._protected)   # Доступно, але не рекомендується\n",
    "print(obj.__private)  # AttributeError: 'MyClass' не має атрибуту '__private'\n"
   ]
  },
  {
   "cell_type": "markdown",
   "metadata": {
    "id": "5op2m2vgMSkZ"
   },
   "source": [
    "4. (7б). Як ви розумієте термін self? Для чого використовується метод __init __?"
   ]
  },
  {
   "cell_type": "markdown",
   "metadata": {
    "id": "DyiPqNRvMasx"
   },
   "source": [
    "'self' в Python використовується для посилання на поточний екземпляр класу і використовується для доступу до змінних, що належать класу. \n",
    "\n",
    "Метод '__ init__' є конструктором класу, який викликається при створенні нового об'єкту і використовується для ініціалізації атрибутів об'єкту."
   ]
  },
  {
   "cell_type": "markdown",
   "metadata": {
    "id": "-6X8EGfjMd2y"
   },
   "source": [
    "5. (9б). Створіть клас Фігура без атрибутів, з методом get_area для отримання площі фігури, що повертає 0 та __add __, який приймає self та other в якості аргументів, а повертає суму площин фігур self та other."
   ]
  },
  {
   "cell_type": "code",
   "execution_count": 5,
   "metadata": {
    "id": "4rvO_wYUMaEr"
   },
   "outputs": [],
   "source": [
    "class Figure:\n",
    "    def get_area(self):\n",
    "        return 0\n",
    "\n",
    "    def __add__(self, other):\n",
    "        return self.get_area() + other.get_area()"
   ]
  },
  {
   "cell_type": "markdown",
   "metadata": {
    "id": "SFcKnnv5Mo_z"
   },
   "source": [
    "6. (11б). Створіть 2 дочірніх класи від Фігури: Трикутник та Коло, які мають атрибути, необхідні для розрахунку площин. Визначте метод get_area в кожному з них так, щоби вони розраховували площу в залежності від формули для кожного типу фігури. Створіть обʼєкт класу Трикутник та обʼєкт класу Коло. Виконайте операцію суми за допомогою оператора + між ними."
   ]
  },
  {
   "cell_type": "code",
   "execution_count": 6,
   "metadata": {
    "id": "H3GVNr69Muf3"
   },
   "outputs": [
    {
     "name": "stdout",
     "output_type": "stream",
     "text": [
      "84.53981633974483\n"
     ]
    }
   ],
   "source": [
    "import math\n",
    "\n",
    "class Triangle(Figure):\n",
    "    def __init__(self, base, height):\n",
    "        self.base = base\n",
    "        self.height = height\n",
    "\n",
    "    def get_area(self):\n",
    "        return 0.5 * self.base * self.height\n",
    "\n",
    "class Circle(Figure):\n",
    "    def __init__(self, radius):\n",
    "        self.radius = radius\n",
    "\n",
    "    def get_area(self):\n",
    "        return math.pi * (self.radius ** 2)\n",
    "\n",
    "triangle = Triangle(3, 4)\n",
    "circle = Circle(5)\n",
    "\n",
    "print(triangle + circle)"
   ]
  },
  {
   "cell_type": "markdown",
   "metadata": {
    "id": "HCvR206YMvLK"
   },
   "source": [
    "7. (3б). Продемонструйте різницю між isinstance та issubclass."
   ]
  },
  {
   "cell_type": "code",
   "execution_count": 16,
   "metadata": {
    "id": "L_V1bBvDM0GN"
   },
   "outputs": [
    {
     "data": {
      "text/plain": [
       "(True, True)"
      ]
     },
     "execution_count": 16,
     "metadata": {},
     "output_type": "execute_result"
    }
   ],
   "source": [
    "# Демонстрація різниці між isinstance та issubclass\n",
    "\n",
    "# Визначення класів\n",
    "class Parent:\n",
    "    pass\n",
    "\n",
    "class Child(Parent):\n",
    "    pass\n",
    "\n",
    "# Створення екземпляру класу\n",
    "child_instance = Child()\n",
    "\n",
    "# Використання isinstance\n",
    "isinstance_result = isinstance(child_instance, Parent)\n",
    "\n",
    "# Використання issubclass\n",
    "issubclass_result = issubclass(Child, Parent)\n",
    "\n",
    "isinstance_result, issubclass_result\n"
   ]
  },
  {
   "cell_type": "markdown",
   "metadata": {
    "id": "jjsaBZ-iM0Qq"
   },
   "source": [
    "8. (13б). Створіть клас BankAccount з приватними атрибутами balance та account_number. Реалізуйте методи поповнення та зняття коштів, забезпечивши належну інкапсуляцію. Підказка: використовуйте декоратори property та setter."
   ]
  },
  {
   "cell_type": "code",
   "execution_count": 8,
   "metadata": {
    "id": "xCvZ7lh8M7YA"
   },
   "outputs": [],
   "source": [
    "class BankAccount:\n",
    "    def __init__(self, balance, account_number):\n",
    "        self.__balance = balance\n",
    "        self.__account_number = account_number\n",
    "\n",
    "    @property\n",
    "    def balance(self):\n",
    "        return self.__balance\n",
    "\n",
    "    @balance.setter\n",
    "    def balance(self, value):\n",
    "        if value >= 0:\n",
    "            self.__balance = value\n",
    "        else:\n",
    "            print(\"Balance cannot be negative\")\n",
    "\n",
    "    def deposit(self, amount):\n",
    "        if amount > 0:\n",
    "            self.__balance += amount\n",
    "        else:\n",
    "            print(\"Deposit amount must be positive\")\n",
    "\n",
    "    def withdraw(self, amount):\n",
    "        if 0 < amount <= self.__balance:\n",
    "            self.__balance -= amount\n",
    "        else:\n",
    "            print(\"Invalid withdrawal amount\")"
   ]
  },
  {
   "cell_type": "markdown",
   "metadata": {
    "id": "tIzL2SJTM8ft"
   },
   "source": [
    "9. (11б). Створіть клас Library, який містить список об'єктів типу Book. Реалізуйте методи для додавання книги, видалення книги та відображення списку книг."
   ]
  },
  {
   "cell_type": "code",
   "execution_count": 9,
   "metadata": {
    "id": "HWxfJKLtNAUZ"
   },
   "outputs": [],
   "source": [
    "class Book:\n",
    "    def __init__(self, title, author):\n",
    "        self.title = title\n",
    "        self.author = author\n",
    "\n",
    "class Library:\n",
    "    def __init__(self):\n",
    "        self.books = []\n",
    "\n",
    "    def add_book(self, book):\n",
    "        self.books.append(book)\n",
    "\n",
    "    def remove_book(self, book):\n",
    "        self.books.remove(book)\n",
    "\n",
    "    def display_books(self):\n",
    "        for book in self.books:\n",
    "            print(f\"Title: {book.title}, Author: {book.author}\")"
   ]
  },
  {
   "cell_type": "markdown",
   "metadata": {
    "id": "lmV8pAwwNIqu"
   },
   "source": [
    "10. (13б). Створіть клас Person з атрибутами name та age. Створіть ще один клас Employee з такими атрибутами, як department та salary. Створіть клас Manager, який успадковує обидва класи Person та Employee. Продемонструйте використання множинної спадковості, створивши обʼєкт класу Manager та отримавши mro для цього класу."
   ]
  },
  {
   "cell_type": "code",
   "execution_count": 10,
   "metadata": {
    "id": "R49grKlWNPeN"
   },
   "outputs": [
    {
     "name": "stdout",
     "output_type": "stream",
     "text": [
      "(<class '__main__.Manager'>, <class '__main__.Person'>, <class '__main__.Employee'>, <class 'object'>)\n"
     ]
    }
   ],
   "source": [
    "class Person:\n",
    "    def __init__(self, name, age):\n",
    "        self.name = name\n",
    "        self.age = age\n",
    "\n",
    "class Employee:\n",
    "    def __init__(self, department, salary):\n",
    "        self.department = department\n",
    "        self.salary = salary\n",
    "\n",
    "class Manager(Person, Employee):\n",
    "    def __init__(self, name, age, department, salary):\n",
    "        Person.__init__(self, name, age)\n",
    "        Employee.__init__(self, department, salary)\n",
    "\n",
    "manager = Manager(\"John Doe\", 40, \"HR\", 50000)\n",
    "print(Manager.__mro__)"
   ]
  },
  {
   "cell_type": "markdown",
   "metadata": {
    "id": "dIJyUiNBFG8G"
   },
   "source": [
    "# II. Iterator"
   ]
  },
  {
   "cell_type": "markdown",
   "metadata": {
    "id": "13vsm0NyKIzL"
   },
   "source": [
    "11. (4б). Визначте рядок(str) з 4ма різними за значенням символами. Створіть ітератор на основі цього рядка. Викличте 5 разів функцію next на ітераторі, 4ри перших з них огорніть у ф-цію print()."
   ]
  },
  {
   "cell_type": "code",
   "execution_count": 11,
   "metadata": {
    "id": "81ntabAkKuz-"
   },
   "outputs": [
    {
     "name": "stdout",
     "output_type": "stream",
     "text": [
      "a\n",
      "b\n",
      "c\n",
      "d\n"
     ]
    }
   ],
   "source": [
    "s = \"abcd\"\n",
    "iterator = iter(s)\n",
    "\n",
    "for _ in range(4):\n",
    "    print(next(iterator))"
   ]
  },
  {
   "cell_type": "markdown",
   "metadata": {
    "id": "aekWHGXOLRsO"
   },
   "source": [
    "А що якщо викликати цю ж функцію на рядку?"
   ]
  },
  {
   "cell_type": "markdown",
   "metadata": {
    "id": "mxATGsErLV1i"
   },
   "source": [
    "Виклик next на рядку безпосередньо спричинить TypeError, оскільки рядки самі по собі не є ітераторами, але є ітерабельними."
   ]
  },
  {
   "cell_type": "markdown",
   "metadata": {
    "id": "XwtMEopwJ4pH"
   },
   "source": [
    " 12. (5б). Опишіть своїми словами в одному реченні, як ви розумієте різницю між ітерабельними обʼєктами та ітераторами (можна на прикладі)."
   ]
  },
  {
   "cell_type": "markdown",
   "metadata": {
    "id": "-sHrODc3KFn8"
   },
   "source": [
    "Ітерабельний об'єкт - це об'єкт, з якого можна отримати ітератор.\n",
    "\n",
    "Ітератор - це об'єкт, який пам'ятає свою позицію під час ітерації та повертає наступний елемент з ітерабельного об'єкта."
   ]
  },
  {
   "cell_type": "markdown",
   "metadata": {
    "id": "E9qJWmNbK8Gl"
   },
   "source": [
    "13. (11б). Створіть клас, що має визначений Iterator Protocol та при кожному виклику next повертає літери англійської абетки, поки вони не вичерпаються."
   ]
  },
  {
   "cell_type": "code",
   "execution_count": 13,
   "metadata": {
    "id": "cqx-g_RsLo6I"
   },
   "outputs": [
    {
     "name": "stdout",
     "output_type": "stream",
     "text": [
      "A\n",
      "B\n",
      "C\n",
      "D\n",
      "E\n",
      "F\n",
      "G\n",
      "H\n",
      "I\n",
      "J\n",
      "K\n",
      "L\n",
      "M\n",
      "N\n",
      "O\n",
      "P\n",
      "Q\n",
      "R\n",
      "S\n",
      "T\n",
      "U\n",
      "V\n",
      "W\n",
      "X\n",
      "Y\n",
      "Z\n"
     ]
    }
   ],
   "source": [
    "class AlphabetIterator:\n",
    "    def __init__(self):\n",
    "        self.letters = \"ABCDEFGHIJKLMNOPQRSTUVWXYZ\"\n",
    "        self.index = 0\n",
    "\n",
    "    def __iter__(self):\n",
    "        return self\n",
    "\n",
    "    def __next__(self):\n",
    "        if self.index < len(self.letters):\n",
    "            letter = self.letters[self.index]\n",
    "            self.index += 1\n",
    "            return letter\n",
    "        raise StopIteration\n",
    "\n",
    "alphabet = AlphabetIterator()\n",
    "for letter in alphabet:\n",
    "    print(letter)"
   ]
  },
  {
   "cell_type": "markdown",
   "metadata": {
    "id": "Z3E3S_s1Fv7-"
   },
   "source": [
    "# Вітаю! Ви велика(ий) молодець, що впоралась(вся). Похваліть себе та побалуйте чимось приємним. Я Вами пишаюся."
   ]
  }
 ],
 "metadata": {
  "colab": {
   "provenance": []
  },
  "kernelspec": {
   "display_name": "Python 3 (ipykernel)",
   "language": "python",
   "name": "python3"
  },
  "language_info": {
   "codemirror_mode": {
    "name": "ipython",
    "version": 3
   },
   "file_extension": ".py",
   "mimetype": "text/x-python",
   "name": "python",
   "nbconvert_exporter": "python",
   "pygments_lexer": "ipython3",
   "version": "3.11.5"
  }
 },
 "nbformat": 4,
 "nbformat_minor": 1
}
