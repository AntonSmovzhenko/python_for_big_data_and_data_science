{
 "cells": [
  {
   "cell_type": "markdown",
   "metadata": {
    "id": "p9wwt0LZzNvn"
   },
   "source": [
    "# I. Змінні та памʼять."
   ]
  },
  {
   "cell_type": "markdown",
   "metadata": {
    "id": "HTJrrm95xSV9"
   },
   "source": [
    "1. Створити змінні, що посилаються на два цілих числа, що однакові за значенням, де значення належить проміжку від -5 до 256. Перевірте, чи будуть ці змінні рівні тільки за значенням або ж ще будуть посилатися на один і той самий обʼєкт в памʼяті? Наведіть код та дайте текстову відповідь нижче."
   ]
  },
  {
   "cell_type": "code",
   "execution_count": 1,
   "metadata": {
    "id": "TATni2vzayjG"
   },
   "outputs": [
    {
     "name": "stdout",
     "output_type": "stream",
     "text": [
      "True\n"
     ]
    }
   ],
   "source": [
    "a = 100\n",
    "b = 100\n",
    "\n",
    "print(a is b) "
   ]
  },
  {
   "cell_type": "markdown",
   "metadata": {
    "id": "zfRG_o3WbRdg"
   },
   "source": [
    "За результатом вищезазначеного коду, який використовує оператор is, ми побачимо True, що означає, що обидві змінні a і b посилаються на один і той самий об'єкт в пам'яті. Це стосується цілих чисел в проміжку від -5 до 256, які утворюють кешований діапазон в Python."
   ]
  },
  {
   "cell_type": "markdown",
   "metadata": {
    "id": "ISORzt6M3vAt"
   },
   "source": [
    "2. За допомогою якої функції можна перевірити належність змінної до вказаного типу даних (напр. чи змінна True посилається на значення булевого та цілочисленого типу)?"
   ]
  },
  {
   "cell_type": "code",
   "execution_count": 2,
   "metadata": {
    "id": "9vL9CFaMbfyo"
   },
   "outputs": [
    {
     "name": "stdout",
     "output_type": "stream",
     "text": [
      "True\n"
     ]
    }
   ],
   "source": [
    "x = True\n",
    "print(isinstance(x, bool))  # Перевірка, чи x належить типу bool"
   ]
  },
  {
   "cell_type": "markdown",
   "metadata": {
    "id": "tRxugKAxwYLw"
   },
   "source": [
    "# II. Цілі числа та числа з рухомою комою"
   ]
  },
  {
   "cell_type": "markdown",
   "metadata": {
    "id": "NLHkgd5Gybc8"
   },
   "source": [
    "3. Створити дві змінні, що посилаються на будь-які ціле число та число з рухомою комою та продемонструвати такі арифметичні операції: додавання, віднімання, ділення, множення, ділення без залишку, ділення по модулю, приведення до ступеню. Всі результати операцій вивести на екран."
   ]
  },
  {
   "cell_type": "code",
   "execution_count": 4,
   "metadata": {
    "id": "nb8u_3pjb2cA"
   },
   "outputs": [
    {
     "name": "stdout",
     "output_type": "stream",
     "text": [
      "Додавання: 13.5\n",
      "Віднімання: 6.5\n",
      "Ділення: 2.857142857142857\n",
      "Множення: 35.0\n",
      "Ділення без залишку: 2.0\n",
      "Ділення по модулю: 3.0\n",
      "Приведення до ступеню: 100\n"
     ]
    }
   ],
   "source": [
    "integer_num = 10\n",
    "float_num = 3.5\n",
    "\n",
    "# Додавання\n",
    "print(\"Додавання:\", integer_num + float_num)\n",
    "\n",
    "# Віднімання\n",
    "print(\"Віднімання:\", integer_num - float_num)\n",
    "\n",
    "# Ділення\n",
    "print(\"Ділення:\", integer_num / float_num)\n",
    "\n",
    "# Множення\n",
    "print(\"Множення:\", integer_num * float_num)\n",
    "\n",
    "# Ділення без залишку\n",
    "print(\"Ділення без залишку:\", integer_num // float_num)\n",
    "\n",
    "# Ділення по модулю\n",
    "print(\"Ділення по модулю:\", integer_num % float_num)\n",
    "\n",
    "# Приведення до ступеню\n",
    "print(\"Приведення до ступеню:\", integer_num ** 2)"
   ]
  },
  {
   "cell_type": "markdown",
   "metadata": {
    "id": "1kBClKgPzZnC"
   },
   "source": [
    "4. Використовуючи змінні з вправи 3, продемонструйте механізм явного перетворення типів, де числа з рухомою комою перетворюються на цілі числа. Також визначте змінну, що посилається на значення булевого типу і спробуйте явно привести її до цілого числа."
   ]
  },
  {
   "cell_type": "code",
   "execution_count": 6,
   "metadata": {
    "id": "TbqJbkeUcKsD"
   },
   "outputs": [
    {
     "name": "stdout",
     "output_type": "stream",
     "text": [
      "Явне перетворення на ціле число: 3\n",
      "Явне приведення змінної булевого типу до цілого числа: 1\n"
     ]
    }
   ],
   "source": [
    "# Явне перетворення типів\n",
    "result = int(float_num)\n",
    "print(\"Явне перетворення на ціле число:\", result)\n",
    "\n",
    "# Явне приведення змінної булевого типу до цілого числа\n",
    "bool_var = True\n",
    "print(\"Явне приведення змінної булевого типу до цілого числа:\", int(bool_var))"
   ]
  },
  {
   "cell_type": "markdown",
   "metadata": {
    "id": "EVJ7AflwxrZi"
   },
   "source": [
    "# IІІ. Рядки (String)."
   ]
  },
  {
   "cell_type": "markdown",
   "metadata": {
    "id": "_s5ECzz9zE61"
   },
   "source": [
    "5. Створити пустий рядок двома різними способами."
   ]
  },
  {
   "cell_type": "code",
   "execution_count": 7,
   "metadata": {
    "id": "fkZJHu9Scvc-"
   },
   "outputs": [],
   "source": [
    "empty_string1 = \"\"\n",
    "empty_string2 = str()"
   ]
  },
  {
   "cell_type": "markdown",
   "metadata": {
    "id": "4Bdn9J3MzLf_"
   },
   "source": [
    "6. Створити рядок з апострофом. Зробити його сирим. Вивести обидва рядка на екран."
   ]
  },
  {
   "cell_type": "code",
   "execution_count": 9,
   "metadata": {
    "id": "ivji_hsmc0GH"
   },
   "outputs": [
    {
     "name": "stdout",
     "output_type": "stream",
     "text": [
      "Рядок 1: \n",
      "Рядок 2: \n",
      "Сире рядок: I'm a raw string\n"
     ]
    }
   ],
   "source": [
    "raw_string = r\"I'm a raw string\"\n",
    "# Виведення обох рядків\n",
    "print(\"Рядок 1:\", empty_string1)\n",
    "print(\"Рядок 2:\", empty_string2)\n",
    "print(\"Сире рядок:\", raw_string)"
   ]
  },
  {
   "cell_type": "markdown",
   "metadata": {
    "id": "bg_d8wM4z8dS"
   },
   "source": [
    "7. Створити змінну, що буде посилатися на Ваше прізвище латинкою. Створити форматований рядок, який буде мати вигляд \"My surname is ______\", де на місці нижніх підкреслень буде Ваше прізвище зі змінної."
   ]
  },
  {
   "cell_type": "code",
   "execution_count": 10,
   "metadata": {
    "id": "kuxFgpWndACq"
   },
   "outputs": [
    {
     "name": "stdout",
     "output_type": "stream",
     "text": [
      "My surname is Smovzhenko\n"
     ]
    }
   ],
   "source": [
    "# Змінна з прізвищем\n",
    "surname = \"Smovzhenko\"\n",
    "# Форматований рядок\n",
    "formatted_string = \"My surname is {}\".format(surname)\n",
    "print(formatted_string)"
   ]
  },
  {
   "cell_type": "markdown",
   "metadata": {
    "id": "1Nc6RqvQ0hxU"
   },
   "source": [
    "8. Маючи рядок \"My dog is crazy.\" перетворити його на список [\"my\", \"dog\", \"is\", \"crazy\"]"
   ]
  },
  {
   "cell_type": "code",
   "execution_count": 11,
   "metadata": {
    "id": "w1Ya4RqedUhw"
   },
   "outputs": [
    {
     "name": "stdout",
     "output_type": "stream",
     "text": [
      "['My', 'dog', 'is', 'crazy.']\n"
     ]
    }
   ],
   "source": [
    "# Перетворення рядка на список слів\n",
    "text = \"My dog is crazy.\"\n",
    "word_list = text.split()\n",
    "print(word_list)"
   ]
  },
  {
   "cell_type": "markdown",
   "metadata": {
    "id": "GYVqN9uP1D4n"
   },
   "source": [
    "# IV. Робота зі списками."
   ]
  },
  {
   "cell_type": "markdown",
   "metadata": {
    "id": "7-DeDunw2sO-"
   },
   "source": [
    "9. Створити список двома різними за синтаксисом способами. За допомогою вбудованої функції обчисліть довжину одного з них."
   ]
  },
  {
   "cell_type": "code",
   "execution_count": 12,
   "metadata": {
    "id": "zxg06Uuxdyoh"
   },
   "outputs": [
    {
     "name": "stdout",
     "output_type": "stream",
     "text": [
      "Довжина першого списку: 5\n"
     ]
    }
   ],
   "source": [
    "# Створення списку двома способами\n",
    "list1 = [1, 2, 3, 4, 5]\n",
    "list2 = list(range(5, 10))\n",
    "\n",
    "# Обчислення довжини списку\n",
    "length = len(list1)\n",
    "print(\"Довжина першого списку:\", length)"
   ]
  },
  {
   "cell_type": "markdown",
   "metadata": {
    "id": "8vmGUTjL22gI"
   },
   "source": [
    "10. Створіть два списка та за допомогою спеціального методу додайте другий з них в якості останнього елемента першого."
   ]
  },
  {
   "cell_type": "code",
   "execution_count": 13,
   "metadata": {
    "id": "uHtjWYw7d7hm"
   },
   "outputs": [
    {
     "name": "stdout",
     "output_type": "stream",
     "text": [
      "Список 1 після додавання другого списку: [1, 2, 3, 4, 5, [5, 6, 7, 8, 9]]\n"
     ]
    }
   ],
   "source": [
    "# Додавання другого списку в якості останнього елемента першого\n",
    "list1.append(list2)\n",
    "print(\"Список 1 після додавання другого списку:\", list1)\n"
   ]
  },
  {
   "cell_type": "markdown",
   "metadata": {
    "id": "JC3BkD-67_--"
   },
   "source": [
    "11. Створіть список, де елементами цього списку також є списки. Отримай перший елемент з останнього рядка та виведи значення на екран."
   ]
  },
  {
   "cell_type": "code",
   "execution_count": 14,
   "metadata": {
    "id": "Kz2jZHsGeLlz"
   },
   "outputs": [
    {
     "name": "stdout",
     "output_type": "stream",
     "text": [
      "Перший елемент з останнього рядка: 7\n"
     ]
    }
   ],
   "source": [
    "# Створення списку, де елементами також є списки\n",
    "nested_list = [[1, 2, 3], [4, 5, 6], [7, 8, 9]]\n",
    "\n",
    "# Отримання першого елемента з останнього рядка\n",
    "element = nested_list[-1][0]\n",
    "print(\"Перший елемент з останнього рядка:\", element)"
   ]
  },
  {
   "cell_type": "markdown",
   "metadata": {
    "id": "JA47PKTv8zFK"
   },
   "source": [
    "12. Створіть список з десяти елементів різного типу. Отримайте всі елементи, окрім двох перших та двох останніх та збережіть їх в новій змінній."
   ]
  },
  {
   "cell_type": "code",
   "execution_count": 15,
   "metadata": {
    "id": "_rHdUR-ueP4-"
   },
   "outputs": [
    {
     "name": "stdout",
     "output_type": "stream",
     "text": [
      "Новий список: [3.0, [4, 5], True, False, 'seven', 8]\n"
     ]
    }
   ],
   "source": [
    "# Створення списку з десяти елементів різного типу\n",
    "mixed_list = [1, 'two', 3.0, [4, 5], True, False, 'seven', 8, 9.0, [10]]\n",
    "\n",
    "# Отримання всіх елементів, окрім двох перших та двох останніх\n",
    "new_list = mixed_list[2:-2]\n",
    "print(\"Новий список:\", new_list)"
   ]
  },
  {
   "cell_type": "markdown",
   "metadata": {
    "id": "pCjR1dJb1Qbi"
   },
   "source": [
    "# V. Робота з кортежами."
   ]
  },
  {
   "cell_type": "markdown",
   "metadata": {
    "id": "fAZCxAX06R_k"
   },
   "source": [
    "14. Створити кортеж з один елементом."
   ]
  },
  {
   "cell_type": "code",
   "execution_count": 16,
   "metadata": {
    "id": "H7d82WkQev3e"
   },
   "outputs": [],
   "source": [
    "# Створення кортежу з одним елементом\n",
    "single_tuple = (1,)"
   ]
  },
  {
   "cell_type": "markdown",
   "metadata": {
    "id": "8LCtYcmI6w1M"
   },
   "source": [
    "15. Порівняйте список та кортеж. Назвіть схожості та відмінності, випадки використання."
   ]
  },
  {
   "cell_type": "markdown",
   "metadata": {
    "id": "fUsN1Hnue0C6"
   },
   "source": [
    "Схожості:\n",
    "\n",
    "Можливість зберігання даних: Обидва типи даних (списки і кортежі) можуть зберігати дані будь-якого типу, включаючи числа, рядки, булеві значення, інші списки або кортежі тощо.\n",
    "\n",
    "Індексація: Як списки, так і кортежі можуть бути індексованими, тобто ви можете отримати доступ до елементів за допомогою їхніх індексів.\n",
    "\n",
    "Зрізи: Обидва типи даних підтримують зрізи, що дозволяє отримати підсписок списку або кортежу за допомогою певного діапазону індексів.\n",
    "\n",
    "\n",
    "Відмінності:\n",
    "\n",
    "Мутабельність: Списки є мутабельними, тобто їх можна змінювати (додавати, видаляти, змінювати елементи), тоді як кортежі є немутабельними, тобто їх неможливо змінити після створення.\n",
    "\n",
    "Синтаксис: Списки створюються за допомогою квадратних дужок [ ], а кортежі - за допомогою круглих дужок ( ).\n",
    "\n",
    "Швидкодія: У деяких випадках кортежі можуть бути ефективнішими, оскільки вони немутабельні, тому операції з ними можуть виконуватися швидше.\n",
    "\n",
    "Використання: Зазвичай кортежі використовуються там, де потрібно забезпечити немутабельність даних, наприклад, як ключі у словниках або як аргументи для функцій, тоді як списки використовуються там, де потрібно здійснювати зміни в даних.\n",
    "\n",
    "Щодо випадків використання, список підходить, коли потрібно динамічно змінювати дані або виконувати послідовні операції, тоді як кортеж може бути використаний там, де дані є статичними і не підлягають змінам."
   ]
  },
  {
   "cell_type": "markdown",
   "metadata": {
    "id": "m0xrwFijAmDD"
   },
   "source": [
    "16. Створіть кортеж з 11ти елементів чисел з рухомою комою та отримайте кожен парний за індексом елемент в зворотньому порядку. Наприклад, маючи (1.2, 2.3, 3.3, 4.3, 5.3, 6.3, 7.3, 8.3, 9.3, 0.3), отримати (0.3, 8.3, 6.3, 4.3, 2.3). Результат збережіть в нову змінну та виведіть на екран."
   ]
  },
  {
   "cell_type": "code",
   "execution_count": 17,
   "metadata": {
    "id": "p-5DAH6XfAGA"
   },
   "outputs": [
    {
     "name": "stdout",
     "output_type": "stream",
     "text": [
      "Результат: (0.3, 8.3, 6.3, 4.3, 2.3)\n"
     ]
    }
   ],
   "source": [
    "# Створення кортежу з 11 елементів чисел з рухомою комою\n",
    "float_tuple = (1.2, 2.3, 3.3, 4.3, 5.3, 6.3, 7.3, 8.3, 9.3, 0.3)\n",
    "\n",
    "# Отримання кожного парного за індексом елемента в зворотньому порядку\n",
    "result_tuple = float_tuple[::-2]\n",
    "print(\"Результат:\", result_tuple)"
   ]
  },
  {
   "cell_type": "markdown",
   "metadata": {
    "id": "rW_I9dt3x6cW"
   },
   "source": [
    "# VI. Множини (Set)."
   ]
  },
  {
   "cell_type": "markdown",
   "metadata": {
    "id": "zNjRLHLw1Bgg"
   },
   "source": [
    "17. Створити множину без елементів. Після цого за допомогою методу додайте кілька різних елементів до множини. Чи множини є змінним типом даних?"
   ]
  },
  {
   "cell_type": "code",
   "execution_count": 18,
   "metadata": {
    "id": "KOv7zc2Kfo4N"
   },
   "outputs": [
    {
     "name": "stdout",
     "output_type": "stream",
     "text": [
      "Тип даних множини: <class 'set'>\n"
     ]
    }
   ],
   "source": [
    "# Створення множини без елементів та додавання кількох різних елементів\n",
    "my_set = set()\n",
    "my_set.add(1)\n",
    "my_set.add(2)\n",
    "my_set.add(3)\n",
    "\n",
    "# Перевірка типу даних множини\n",
    "print(\"Тип даних множини:\", type(my_set))\n"
   ]
  },
  {
   "cell_type": "markdown",
   "metadata": {
    "id": "vxS6dVYiftZQ"
   },
   "source": [
    "Множини є незмінними типами даних в Python. Це означає, що ви не можете змінювати елементи множини напряму, але можете змінювати саму множину, додаючи, видаляючи або оновлюючи її."
   ]
  },
  {
   "cell_type": "markdown",
   "metadata": {
    "id": "gHpT0Zw_1HEF"
   },
   "source": [
    "18. Створити множину, маючи список my_list = [1, 1, 2, 67, 67, 8, 9]. Пояснити, чому \"зникли\" деякі елементи."
   ]
  },
  {
   "cell_type": "code",
   "execution_count": 19,
   "metadata": {
    "id": "qCN4uvJ_fxmu"
   },
   "outputs": [
    {
     "name": "stdout",
     "output_type": "stream",
     "text": [
      "Множина зі списку: {1, 2, 67, 8, 9}\n"
     ]
    }
   ],
   "source": [
    "# Створення множини зі списку з дублікатами\n",
    "my_list = [1, 1, 2, 67, 67, 8, 9]\n",
    "set_from_list = set(my_list)\n",
    "print(\"Множина зі списку:\", set_from_list)"
   ]
  },
  {
   "cell_type": "markdown",
   "metadata": {
    "id": "tFNc1e20fyny"
   },
   "source": [
    "При створенні множини зі списку my_list = [1, 1, 2, 67, 67, 8, 9] деякі елементи \"зникають\", оскільки множина не допускає дублікатів. У множині кожен елемент повинен бути унікальним. Таким чином, якщо додати дубль елементу, він буде проігнорований, і множина буде містити лише унікальні значення."
   ]
  },
  {
   "cell_type": "markdown",
   "metadata": {
    "id": "SRMkGizS1UwY"
   },
   "source": [
    "19. Створіть дві множини. Продемонстуйте над ними операції: обʼєднання, різниці, пересічі та симетричної різниці. Використовуйте методи, що не змінюють множини, а створюють нові."
   ]
  },
  {
   "cell_type": "code",
   "execution_count": 20,
   "metadata": {
    "id": "h0T-VuDnf3Ri"
   },
   "outputs": [
    {
     "name": "stdout",
     "output_type": "stream",
     "text": [
      "Обʼєднання множин: {1, 2, 3, 4, 5, 6, 7, 8}\n",
      "Різниця множин (set1 - set2): {1, 2, 3}\n",
      "Пересічення множин: {4, 5}\n",
      "Симетрична різниця множин: {1, 2, 3, 6, 7, 8}\n"
     ]
    }
   ],
   "source": [
    "# Створення двох множин\n",
    "set1 = {1, 2, 3, 4, 5}\n",
    "set2 = {4, 5, 6, 7, 8}\n",
    "\n",
    "# Обʼєднання множин\n",
    "union_set = set1.union(set2)\n",
    "print(\"Обʼєднання множин:\", union_set)\n",
    "\n",
    "# Різниця множин\n",
    "difference_set = set1.difference(set2)\n",
    "print(\"Різниця множин (set1 - set2):\", difference_set)\n",
    "\n",
    "# Пересічення множин\n",
    "intersection_set = set1.intersection(set2)\n",
    "print(\"Пересічення множин:\", intersection_set)\n",
    "\n",
    "# Симетрична різниця множин\n",
    "symmetric_difference_set = set1.symmetric_difference(set2)\n",
    "print(\"Симетрична різниця множин:\", symmetric_difference_set)"
   ]
  },
  {
   "cell_type": "markdown",
   "metadata": {
    "id": "kWc8gkzTx7Ea"
   },
   "source": [
    "# VII. Словники (Dictionary)."
   ]
  },
  {
   "cell_type": "markdown",
   "metadata": {
    "id": "i5FLwj-B2ybQ"
   },
   "source": [
    "20. Створіть пустий словник. До нього додайте чотири пари елементів такі, щоб їхні ключі були різних типів. Чи може список бути ключем? Чому?"
   ]
  },
  {
   "cell_type": "code",
   "execution_count": 21,
   "metadata": {
    "id": "hxgv3BzrgLAV"
   },
   "outputs": [
    {
     "name": "stdout",
     "output_type": "stream",
     "text": [
      "Створений словник: {1: 'one', 'two': 2, 3.0: 'three', (4, 5): [4, 5]}\n"
     ]
    }
   ],
   "source": [
    "# Створення пустого словника та додавання чотирьох пар елементів\n",
    "my_dict = {}\n",
    "my_dict[1] = \"one\"\n",
    "my_dict[\"two\"] = 2\n",
    "my_dict[3.0] = \"three\"\n",
    "my_dict[(4, 5)] = [4, 5]\n",
    "\n",
    "print(\"Створений словник:\", my_dict)"
   ]
  },
  {
   "cell_type": "markdown",
   "metadata": {
    "id": "zwa7UVN-gR3m"
   },
   "source": [
    "Список не може бути ключем у словнику, оскільки ключі словника повинні бути хешованими об'єктами, тобто не змінюватися і мати унікальне представлення. Список є мутабельним типом даних і, отже, не може бути хешованим. Однак, список може бути значенням у словнику."
   ]
  },
  {
   "cell_type": "markdown",
   "metadata": {
    "id": "WM_pMlJsgoNf"
   },
   "source": [
    "21. Створіть словник, де значенням в одній з пар теж буде словник, який теж має вкладений словник. Виведіть на екран значення, що міститься в словнику, що знаходиться на найнижчому рівні ієрархії вкладеності (найбільш внутрішній)."
   ]
  },
  {
   "cell_type": "code",
   "execution_count": 22,
   "metadata": {
    "id": "60dlP7IHhAy4"
   },
   "outputs": [
    {
     "name": "stdout",
     "output_type": "stream",
     "text": [
      "Значення з найнижчого рівня вкладеності: {'key1': 'value1', 'key2': 'value2'}\n"
     ]
    }
   ],
   "source": [
    "# Створення вкладеного словника\n",
    "nested_dict = {\n",
    "    \"inner_dict\": {\n",
    "        \"key1\": \"value1\",\n",
    "        \"key2\": \"value2\"\n",
    "    }\n",
    "}\n",
    "\n",
    "print(\"Значення з найнижчого рівня вкладеності:\", nested_dict[\"inner_dict\"])"
   ]
  },
  {
   "cell_type": "markdown",
   "metadata": {
    "id": "xOZP0hkx6cCr"
   },
   "source": [
    "# Вітаю! Ви велика(ий) молодець, що впоралась(вся). Похваліть себе та побалуйте чимось приємним. Я Вами пишаюся."
   ]
  }
 ],
 "metadata": {
  "colab": {
   "provenance": []
  },
  "kernelspec": {
   "display_name": "Python 3 (ipykernel)",
   "language": "python",
   "name": "python3"
  },
  "language_info": {
   "codemirror_mode": {
    "name": "ipython",
    "version": 3
   },
   "file_extension": ".py",
   "mimetype": "text/x-python",
   "name": "python",
   "nbconvert_exporter": "python",
   "pygments_lexer": "ipython3",
   "version": "3.11.5"
  }
 },
 "nbformat": 4,
 "nbformat_minor": 1
}
